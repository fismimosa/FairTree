{
 "cells": [
  {
   "cell_type": "code",
   "execution_count": 5,
   "metadata": {},
   "outputs": [
    {
     "ename": "ModuleNotFoundError",
     "evalue": "No module named 'matlab.engine'; 'matlab' is not a package",
     "output_type": "error",
     "traceback": [
      "\u001b[1;31m---------------------------------------------------------------------------\u001b[0m",
      "\u001b[1;31mModuleNotFoundError\u001b[0m                       Traceback (most recent call last)",
      "Cell \u001b[1;32mIn[5], line 4\u001b[0m\n\u001b[0;32m      2\u001b[0m \u001b[38;5;28;01mimport\u001b[39;00m \u001b[38;5;21;01mnumpy\u001b[39;00m \u001b[38;5;28;01mas\u001b[39;00m \u001b[38;5;21;01mnp\u001b[39;00m\n\u001b[0;32m      3\u001b[0m \u001b[38;5;28;01mfrom\u001b[39;00m \u001b[38;5;21;01mcollections\u001b[39;00m \u001b[38;5;28;01mimport\u001b[39;00m defaultdict\n\u001b[1;32m----> 4\u001b[0m \u001b[38;5;28;01mimport\u001b[39;00m \u001b[38;5;21;01mmatlab\u001b[39;00m\u001b[38;5;21;01m.\u001b[39;00m\u001b[38;5;21;01mengine\u001b[39;00m\n\u001b[0;32m      5\u001b[0m \u001b[38;5;28;01mimport\u001b[39;00m \u001b[38;5;21;01mtime\u001b[39;00m\n\u001b[0;32m      6\u001b[0m \u001b[38;5;28;01mimport\u001b[39;00m \u001b[38;5;21;01mos\u001b[39;00m\n",
      "\u001b[1;31mModuleNotFoundError\u001b[0m: No module named 'matlab.engine'; 'matlab' is not a package"
     ]
    }
   ],
   "source": [
    "import sys\n",
    "import numpy as np\n",
    "from collections import defaultdict\n",
    "import matlab.engine\n",
    "import time\n",
    "import os\n",
    "import pandas as pd\n",
    "import numpy as np\n",
    "import math\n",
    "import matplotlib.pyplot as plt\n",
    "import random\n",
    "print(\"Loaded\")"
   ]
  },
  {
   "cell_type": "code",
   "execution_count": 6,
   "metadata": {},
   "outputs": [],
   "source": [
    "EPSILON = 0.0001\n",
    " \n",
    "FAIRLETS = []\n",
    "FAIRLET_CENTERS = []\n",
    " \n",
    "class TreeNode:\n",
    " \n",
    "    def __init__(self):\n",
    "        self.children = []\n",
    " \n",
    "    def set_cluster(self, cluster):\n",
    "        self.cluster = cluster\n",
    " \n",
    "    def add_child(self, child):\n",
    "        self.children.append(child)\n",
    " \n",
    "    def populate_colors(self, colors):\n",
    "        \"Populate auxiliary lists of red and blue points for each node, bottom-up\"\n",
    "        self.reds = []\n",
    "        self.blues = []\n",
    "        if len(self.children) == 0:\n",
    "            # Leaf\n",
    "            for i in self.cluster:\n",
    "                if colors[i] == 0:\n",
    "                    self.reds.append(i)\n",
    "                else:\n",
    "                    self.blues.append(i)\n",
    "        else:\n",
    "            # Not a leaf\n",
    "            for child in self.children:\n",
    "                child.populate_colors(colors)\n",
    "                self.reds.extend(child.reds)\n",
    "                self.blues.extend(child.blues)\n",
    " \n",
    " "
   ]
  },
  {
   "cell_type": "code",
   "execution_count": 7,
   "metadata": {},
   "outputs": [],
   "source": [
    "\n",
    "### K-MEDIAN CODE ###\n",
    " \n",
    "def kmedian_cost(points, centroids, dataset):\n",
    "    \"Computes and returns k-median cost for given dataset and centroids\"\n",
    "    return sum(np.amin(np.concatenate([np.linalg.norm(dataset[:,:]-dataset[centroid,:], axis=1).reshape((dataset.shape[0], 1)) for centroid in centroids], axis=1), axis=1))\n"
   ]
  },
  {
   "cell_type": "code",
   "execution_count": 8,
   "metadata": {},
   "outputs": [],
   "source": [
    "\n",
    "def fair_kmedian_cost(centroids, dataset):\n",
    "    \"Return the fair k-median cost for given centroids and fairlet decomposition\"\n",
    "    total_cost = 0\n",
    "    for i in range(len(FAIRLETS)):\n",
    "        # Choose index of centroid which is closest to the i-th fairlet center\n",
    "        cost_list = [np.linalg.norm(dataset[centroids[j],:]-dataset[FAIRLET_CENTERS[i],:]) for j in range(len(centroids))]\n",
    "        cost, j = min((cost, j) for (j, cost) in enumerate(cost_list))\n",
    "        # Assign all points in i-th fairlet to above centroid and compute cost\n",
    "        total_cost += sum([np.linalg.norm(dataset[centroids[j],:]-dataset[point,:]) for point in FAIRLETS[i]])\n",
    "    return total_cost\n",
    " "
   ]
  },
  {
   "cell_type": "code",
   "execution_count": 9,
   "metadata": {},
   "outputs": [],
   "source": [
    "\n",
    " \n",
    "### FAIRLET DECOMPOSITION CODE ###\n",
    " \n",
    "def balanced(p, q, r, b):\n",
    "    if r==0 and b==0:\n",
    "        return True\n",
    "    if r==0 or b==0:\n",
    "        return False\n",
    "    return min(r*1./b, b*1./r) >= p*1./q\n",
    " \n",
    " "
   ]
  },
  {
   "cell_type": "code",
   "execution_count": 10,
   "metadata": {},
   "outputs": [],
   "source": [
    "\n",
    "def make_fairlet(points, dataset):\n",
    "    \"Adds fairlet to fairlet decomposition, returns median cost\"\n",
    "    FAIRLETS.append(points)\n",
    "   # print(dataset)\n",
    "    cost_list = [sum([np.linalg.norm(dataset[center,:]-dataset[point,:]) for point in points]) for center in points]\n",
    "    cost, center = min((cost, center) for (center, cost) in enumerate(cost_list))\n",
    "    FAIRLET_CENTERS.append(points[center])\n",
    "    return cost\n",
    " "
   ]
  },
  {
   "cell_type": "code",
   "execution_count": 11,
   "metadata": {},
   "outputs": [],
   "source": [
    "\n",
    " \n",
    "def basic_fairlet_decomposition(p, q, blues, reds, dataset):\n",
    "    \"\"\"\n",
    "    Computes vanilla (p,q)-fairlet decomposition of given points (Lemma 3 in NIPS17 paper).\n",
    "    Returns cost.\n",
    "    Input: Balance parameters p,q which are non-negative integers satisfying p<=q and gcd(p,q)=1.\n",
    "    \"blues\" and \"reds\" are sets of points indices with balance at least p/q.\n",
    "    \"\"\"\n",
    "    assert p <= q, \"Please use balance parameters in the correct order\"\n",
    "    if len(reds) < len(blues):\n",
    "        temp = blues\n",
    "        blues = reds\n",
    "        reds = temp\n",
    "    R = len(reds)\n",
    "    B = len(blues)\n",
    "    assert balanced(p, q, R, B), \"Input sets are unbalanced: \"+str(R)+\",\"+str(B)\n",
    " \n",
    "    if R==0 and B==0:\n",
    "        return 0\n",
    " \n",
    "    b0 = 0\n",
    "    r0 = 0\n",
    "    cost = 0\n",
    "    while (R-r0)-(B-b0) >= q-p and R-r0 >= q and B-b0 >= p:\n",
    "        cost += make_fairlet(reds[r0:r0+q]+blues[b0:b0+p], dataset)\n",
    "        r0 += q\n",
    "        b0 += p\n",
    "    if R-r0 + B-b0 >=1 and R-r0 + B-b0 <= p+q:\n",
    "        cost += make_fairlet(reds[r0:]+blues[b0:], dataset)\n",
    "        r0 = R\n",
    "        b0 = B\n",
    "    elif R-r0 != B-b0 and B-b0 >= p:\n",
    "        cost += make_fairlet(reds[r0:r0+(R-r0)-(B-b0)+p]+blues[b0:b0+p], dataset)\n",
    "        r0 += (R-r0)-(B-b0)+p\n",
    "        b0 += p\n",
    "    assert R-r0 == B-b0, \"Error in computing fairlet decomposition\"\n",
    "    for i in range(R-r0):\n",
    "        cost += make_fairlet([reds[r0+i], blues[b0+i]], dataset)\n",
    "    return cost\n",
    " \n",
    " "
   ]
  },
  {
   "cell_type": "code",
   "execution_count": 8,
   "metadata": {},
   "outputs": [],
   "source": [
    "\n",
    "def node_fairlet_decomposition(p, q, node, dataset, donelist, depth):\n",
    "\n",
    "    # Leaf                                                                                          \n",
    "    if len(node.children) == 0:\n",
    "        node.reds = [i for i in node.reds if donelist[i]==0]\n",
    "        node.blues = [i for i in node.blues if donelist[i]==0]\n",
    "        assert balanced(p, q, len(node.reds), len(node.blues)), \"Reached unbalanced leaf\"\n",
    "        return basic_fairlet_decomposition(p, q, node.blues, node.reds, dataset)\n",
    " \n",
    "    # Preprocess children nodes to get rid of points that have already been clustered\n",
    "    for child in node.children:\n",
    "        child.reds = [i for i in child.reds if donelist[i]==0]\n",
    "        child.blues = [i for i in child.blues if donelist[i]==0]\n",
    " \n",
    "    R = [len(child.reds) for child in node.children]\n",
    "    B = [len(child.blues) for child in node.children]\n",
    " \n",
    "    if sum(R) == 0 or sum(B) == 0:\n",
    "        assert sum(R)==0 and sum(B)==0, \"One color class became empty for this node while the other did not\"\n",
    "        return 0\n",
    " \n",
    "    NR = 0\n",
    "    NB = 0\n",
    " \n",
    "    # Phase 1: Add must-remove nodes\n",
    "    for i in range(len(node.children)):\n",
    "        if R[i] >= B[i]:\n",
    "            must_remove_red = max(0, R[i] - int(np.floor(B[i]*q*1./p)))\n",
    "            R[i] -= must_remove_red\n",
    "            NR += must_remove_red\n",
    "        else:\n",
    "            must_remove_blue = max(0, B[i] - int(np.floor(R[i]*q*1./p)))\n",
    "            B[i] -= must_remove_blue\n",
    "            NB += must_remove_blue\n",
    " \n",
    "    # Calculate how many points need to be added to smaller class until balance\n",
    "    if NR >= NB:\n",
    "        # Number of missing blues in (NR,NB)\n",
    "        missing = max(0, int(np.ceil(NR*p*1./q)) - NB)\n",
    "    else:\n",
    "        # Number of missing reds in (NR,NB)\n",
    "        missing = max(0, int(np.ceil(NB*p*1./q)) - NR)\n",
    "         \n",
    "    # Phase 2: Add may-remove nodes until (NR,NB) is balanced or until no more such nodes\n",
    "    for i in range(len(node.children)):\n",
    "        if missing == 0:\n",
    "            assert balanced(p, q, NR, NB), \"Something went wrong\"\n",
    "            break\n",
    "        if NR >= NB:\n",
    "            may_remove_blue = B[i] - int(np.ceil(R[i]*p*1./q))\n",
    "            remove_blue = min(may_remove_blue, missing)\n",
    "            B[i] -= remove_blue\n",
    "            NB += remove_blue\n",
    "            missing -= remove_blue\n",
    "        else:\n",
    "            may_remove_red = R[i] - int(np.ceil(B[i]*p*1./q))\n",
    "            remove_red = min(may_remove_red, missing)\n",
    "            R[i] -= remove_red\n",
    "            NR += remove_red\n",
    "            missing -= remove_red\n",
    " \n",
    "    # Phase 3: Add unsatuated fairlets until (NR,NB) is balanced\n",
    "    for i in range(len(node.children)):\n",
    "        if balanced(p, q, NR, NB):\n",
    "            break\n",
    "        if R[i] >= B[i]:\n",
    "            num_saturated_fairlets = int(R[i]/q)\n",
    "            excess_red = R[i] - q*num_saturated_fairlets\n",
    "            excess_blue = B[i] - p*num_saturated_fairlets\n",
    "        else:\n",
    "            num_saturated_fairlets = int(B[i]/q)\n",
    "            excess_red = R[i] - p*num_saturated_fairlets\n",
    "            excess_blue = B[i] - q*num_saturated_fairlets\n",
    "        R[i] -= excess_red\n",
    "        NR += excess_red\n",
    "        B[i] -= excess_blue\n",
    "        NB += excess_blue\n",
    " \n",
    "    assert balanced(p, q, NR, NB), \"Constructed node sets are unbalanced\"\n",
    " \n",
    "    reds = []\n",
    "    blues = []\n",
    "    for i in range(len(node.children)):\n",
    "        for j in node.children[i].reds[R[i]:]:\n",
    "            reds.append(j)\n",
    "            donelist[j] = 1\n",
    "        for j in node.children[i].blues[B[i]:]:\n",
    "            blues.append(j)\n",
    "            donelist[j] = 1\n",
    " \n",
    "    assert len(reds)==NR and len(blues)==NB, \"Something went horribly wrong\"\n",
    " \n",
    "    return basic_fairlet_decomposition(p, q, blues, reds, dataset) + sum([node_fairlet_decomposition(p, q, child, dataset, donelist, depth+1) for child in node.children])\n",
    " "
   ]
  },
  {
   "cell_type": "code",
   "execution_count": 9,
   "metadata": {},
   "outputs": [],
   "source": [
    "\n",
    " \n",
    "def tree_fairlet_decomposition(p, q, root, dataset, colors):\n",
    "    \"Main fairlet clustering function, returns cost wrt original metric (not tree metric)\"\n",
    "    assert p <= q, \"Please use balance parameters in the correct order\"\n",
    "    root.populate_colors(colors)\n",
    "    assert balanced(p, q, len(root.reds), len(root.blues)), \"Dataset is unbalanced\"\n",
    "    root.populate_colors(colors)\n",
    "    donelist = [0] * dataset.shape[0]\n",
    "    return node_fairlet_decomposition(p, q, root, dataset, donelist, 0)\n",
    " \n",
    " "
   ]
  },
  {
   "cell_type": "code",
   "execution_count": 10,
   "metadata": {},
   "outputs": [],
   "source": [
    "\n",
    "### QUADTREE CODE ###\n",
    " \n",
    "def build_quadtree(dataset, max_levels=0, random_shift=True):\n",
    "    \"If max_levels=0 there no level limit, quadtree will partition until all clusters are singletons\"\n",
    "    dimension = dataset.shape[1]\n",
    "    lower = np.amin(dataset, axis=0)\n",
    "    upper = np.amax(dataset, axis=0)\n",
    " \n",
    "    shift = np.zeros(dimension)\n",
    "    if random_shift:\n",
    "        for d in range(dimension):\n",
    "            spread = upper[d] - lower[d]\n",
    "            shift[d] = np.random.uniform(0, spread)\n",
    "            upper[d] += spread\n",
    " \n",
    "    return build_quadtree_aux(dataset, range(dataset.shape[0]), lower, upper, max_levels, shift)\n",
    "     \n",
    " "
   ]
  },
  {
   "cell_type": "code",
   "execution_count": 11,
   "metadata": {},
   "outputs": [],
   "source": [
    "\n",
    "def build_quadtree_aux(dataset, cluster, lower, upper, max_levels, shift):\n",
    "    \"\"\"\n",
    "    \"lower\" is the \"bottom-left\" (in all dimensions) corner of current hypercube\n",
    "    \"upper\" is the \"upper-right\" (in all dimensions) corner of current hypercube\n",
    "    \"\"\"\n",
    " \n",
    "    dimension = dataset.shape[1]\n",
    "    cell_too_small = True\n",
    "    for i in range(dimension):\n",
    "        if upper[i]-lower[i] > EPSILON:\n",
    "            cell_too_small = False\n",
    " \n",
    "    node = TreeNode()\n",
    "    if max_levels==1 or len(cluster)<=1 or cell_too_small:\n",
    "        # Leaf\n",
    "        node.set_cluster(cluster)\n",
    "        return node\n",
    "     \n",
    "    # Non-leaf\n",
    "    midpoint = 0.5 * (lower + upper)\n",
    "    subclusters = defaultdict(list)\n",
    "    for i in cluster:\n",
    "        subclusters[tuple([dataset[i,d]+shift[d]<=midpoint[d] for d in range(dimension)])].append(i)\n",
    "    for edge, subcluster in subclusters.items():\n",
    "        sub_lower = np.zeros(dimension)\n",
    "        sub_upper = np.zeros(dimension)\n",
    "        for d in range(dimension):\n",
    "            if edge[d]:\n",
    "                sub_lower[d] = lower[d]\n",
    "                sub_upper[d] = midpoint[d]\n",
    "            else:\n",
    "                sub_lower[d] = midpoint[d]\n",
    "                sub_upper[d] = upper[d]\n",
    "        node.add_child(build_quadtree_aux(dataset, subcluster, sub_lower, sub_upper, max_levels-1, shift))\n",
    "    return node\n",
    " \n",
    " "
   ]
  },
  {
   "cell_type": "markdown",
   "metadata": {},
   "source": [
    "**DIABETES DATASET** "
   ]
  },
  {
   "cell_type": "code",
   "execution_count": 12,
   "metadata": {},
   "outputs": [],
   "source": [
    "\n",
    "def load_diabetes(data_dir=''):\n",
    "\n",
    "    data_dir = 'Datasets/'\n",
    "    _path = 'diabetic_data.csv'\n",
    "    data_path = os.path.join(data_dir, _path)\n",
    "  \n",
    "    df = pd.read_csv(data_path, sep=',', header=[0])\n",
    "    n = df.shape[0]\n",
    "    #print(df.head())\n",
    "    df = df.iloc[:,[3,4,9]]\n",
    "    age_ = []\n",
    "    gender_ =[]\n",
    "    for index, row in df.iterrows():\n",
    "        s = row['age']\n",
    "        s = s[1:-1]\n",
    "        a,b= s.split(\"-\")\n",
    "        age_.append((int(a)+int(b))//2);\n",
    "        \n",
    "        if row['gender']=='Female':\n",
    "            gender_.append(1)\n",
    "        else:\n",
    "            gender_.append(0)\n",
    "            \n",
    "        \n",
    "    df['age']=age_;\n",
    "   # df['gender']=gender_;\n",
    "    df=df.drop(4)\n",
    "    #print(df.head())\n",
    "    df=df.iloc[:,[1,2]]\n",
    "        \n",
    "    return  df.to_numpy(), np.array(gender_)\n",
    "\n",
    "#load_diabetes()\n",
    "\n"
   ]
  },
  {
   "cell_type": "markdown",
   "metadata": {},
   "source": [
    "**BANK DATASET** "
   ]
  },
  {
   "cell_type": "markdown",
   "metadata": {},
   "source": [
    "*Step 1: Data Preprocessing* "
   ]
  },
  {
   "cell_type": "code",
   "execution_count": 33,
   "metadata": {},
   "outputs": [],
   "source": [
    "#binary Bank \n",
    "def load_bank(data_dir=''):\n",
    "\n",
    "    data_dir = 'Datasets'\n",
    "    _path = 'bank.csv'\n",
    "    data_path = os.path.join(data_dir, _path)\n",
    "      \n",
    "    df = pd.read_csv(data_path, sep=',', header=[0])\n",
    "    df1 = df.loc[df['marital'] == 'married']\n",
    "    df2 = df.loc[df['marital'] == 'single']\n",
    "    df3 = df.loc[df['marital'] =='divorced']\n",
    "    \n",
    "    \n",
    "    df = [df1, df2, df3]\n",
    "    df = pd.concat(df)\n",
    "    n = df.shape[0]\n",
    "    \n",
    "    sex = df['marital']\n",
    "    sens_attributes = list(set(sex.astype(str).values))  \n",
    "    sex_num = np.zeros(n, dtype=int)\n",
    "    sex_num[sex.astype(str).values == 'married'] = 1  \n",
    "\n",
    "    df = df.iloc[:, [0,5,11]]\n",
    "    return  df.to_numpy(),sex_num\n",
    "   \n",
    "#load_bank()\n",
    "\n"
   ]
  },
  {
   "cell_type": "markdown",
   "metadata": {},
   "source": [
    "**CENSUS DATASET** "
   ]
  },
  {
   "cell_type": "markdown",
   "metadata": {},
   "source": [
    "*Step 1: Data Preprocessing* "
   ]
  },
  {
   "cell_type": "code",
   "execution_count": 13,
   "metadata": {},
   "outputs": [
    {
     "name": "stdout",
     "output_type": "stream",
     "text": [
      "done\n"
     ]
    }
   ],
   "source": [
    "\n",
    "def load_census(data_dir=''):\n",
    "\n",
    "    #data_dir = 'PycharmProjects/Fair_clustering_EF1/Datasets_minor/'\n",
    "    _path = 'adult_p.csv'\n",
    "    data_path = os.path.join(data_dir, _path)\n",
    "\n",
    "    df = pd.read_csv(data_path, sep=',', header=[0])\n",
    "    n = df.shape[0]\n",
    "    \n",
    "    sex_num = df['gender']\n",
    "        \n",
    "    df = df.drop(columns=['gender'])\n",
    "   \n",
    "    return  df.to_numpy(),np.array(sex_num)\n",
    "\n",
    "load_census()\n",
    "print(\"done\")\n"
   ]
  },
  {
   "cell_type": "markdown",
   "metadata": {},
   "source": [
    "**CENSUS II DATASET** "
   ]
  },
  {
   "cell_type": "markdown",
   "metadata": {},
   "source": [
    "*Step 1: Data Preprocessing* "
   ]
  },
  {
   "cell_type": "code",
   "execution_count": 12,
   "metadata": {},
   "outputs": [],
   "source": [
    " \n",
    "def load_censusII(data_dir=''):\n",
    "\n",
    "    data_dir = 'PycharmProjects/Fair_clustering_EF1/Datasets_minor/'\n",
    "    _path = 'USCensus1990raw.data.txt'\n",
    "    data_path = os.path.join(data_dir, _path)\n",
    "\n",
    "    df = pd.read_csv(data_path, sep='\\t', header=None)\n",
    "    n = df.shape[0]\n",
    "    sex_num = df.iloc[:, 112].astype(int)\n",
    "\n",
    "    selected_attributes = [12, 35, 36, 47, 53, 54, 55, 58, 60, 63, 64, 65, 73, 80, 81, 93, 94, 95, 96, 101, 109, 116,\n",
    "                           118, 122, 124]\n",
    "\n",
    "    \n",
    "  \n",
    "    df = df.iloc[:,selected_attributes]\n",
    "\n",
    "    #df['type'] = sex_num\n",
    "    \n",
    "    #df = df.iloc[:,[25,0,1,2,3,4,5,6,7,8,9,10,11,12,13,14,15,16,17,18,19,20,21,22,23,24]]\n",
    "    return df.to_numpy(), sex_num.to_numpy()\n",
    "\n",
    "#load_censusII()"
   ]
  },
  {
   "cell_type": "markdown",
   "metadata": {},
   "source": [
    "*Step 2: Fair Clustering* "
   ]
  },
  {
   "cell_type": "code",
   "execution_count": 13,
   "metadata": {},
   "outputs": [],
   "source": [
    "def truncate(f, n):\n",
    "    return math.floor(f * 10 ** n) / 10 ** n"
   ]
  },
  {
   "cell_type": "code",
   "execution_count": 14,
   "metadata": {},
   "outputs": [],
   "source": [
    "def load_dataset(dataset_name):\n",
    "    if dataset_name=='diabetes':\n",
    "        dataset,colors_ = load_diabetes()\n",
    "    elif dataset_name=='census':\n",
    "        dataset,colors_ = load_census()\n",
    "    elif dataset_name=='censusII':\n",
    "        dataset,colors_ = load_censusII()\n",
    "    elif dataset_name=='bank':\n",
    "        dataset,colors_ = load_bank()\n",
    "    else:\n",
    "        print('Using Randomised dataset')\n",
    "        n_points = 1000\n",
    "        dimension = 5\n",
    "        dataset = np.random.random((n_points, dimension))\n",
    "        colors_ = [np.random.randint(2) for i in range(n_points)]\n",
    "\n",
    "    return dataset,colors_"
   ]
  },
  {
   "cell_type": "code",
   "execution_count": 15,
   "metadata": {
    "scrolled": true
   },
   "outputs": [],
   "source": [
    "\n",
    "def compute(p,q,k,dataset,colors_,sample_size,subSample):\n",
    "    \n",
    "    \n",
    "    p = min(p,q)\n",
    "    q = max(p,q)\n",
    "    \n",
    "    n_points = len(dataset)\n",
    "    \n",
    "    #print( p )\n",
    "    #print(q)\n",
    "    fairlet_s = time.time()\n",
    "    \n",
    "    if  subSample==False:\n",
    "        idx = np.arange(n_points)\n",
    "        np.random.shuffle(idx)\n",
    "        sample_size=n_points\n",
    "        idx = idx[:sample_size]\n",
    "        n_points = sample_size\n",
    "        dataset = dataset[idx,:]\n",
    "        colors = [colors_[i] for i in idx]\n",
    "    else:\n",
    "        iter =100\n",
    "        temp = len(dataset)\n",
    "        temp_dataset = dataset\n",
    "        while iter>=0:\n",
    "            n_points = temp\n",
    "            dataset = temp_dataset\n",
    "            idx = np.arange(n_points)\n",
    "          #  print('Npoints is '+str(n_points))\n",
    "           # print('Sample size is '+str(sample_size))\n",
    "           # np.random.seed(quantumrandom.get_data())\n",
    "            random.shuffle(idx)\n",
    "            random.shuffle(idx)\n",
    "            random.shuffle(idx)\n",
    "            random.shuffle(idx)\n",
    "            #print(random.random())\n",
    "                      \n",
    "            idx = idx[:sample_size]\n",
    "           # print(idx)\n",
    "            n_points = sample_size\n",
    "            dataset = dataset[idx,:]\n",
    "            colors = [colors_[i] for i in idx]\n",
    "            a = len([ 1 for x in colors if x==1])\n",
    "            b = len([ 1 for x in colors if x==0])\n",
    "            #print('a '+str(a))\n",
    "            #print('b '+str(b))\n",
    "            c1 = a/b\n",
    "            c2 = b/a\n",
    "            t1 = truncate(c1,2)\n",
    "            t2 = truncate(c2,2)\n",
    "            t = min(t1,t2)\n",
    "            tt = truncate(p/q,2)\n",
    "            #print(t)\n",
    "            #print(tt)\n",
    "            if t == tt:\n",
    "                break\n",
    "            else: \n",
    "                #print('-------------------------------Sampling again : '+str(iter))\n",
    "                #import time  as timr\n",
    "                #timr.sleep(30) \n",
    "                iter = iter-1\n",
    "\n",
    "    dimension = dataset[0].shape\n",
    "    #print(dataset.shape)\n",
    "    #print(len(colors))\n",
    "    a = [ 1 for x in colors if x==1]\n",
    "    b = [ 1 for x in colors if x==0]\n",
    "  #  print(\"A \"+str(len(a)))\n",
    "   # print(\"B \"+str(len(b)))\n",
    "    \n",
    "  #  print(\"Number of data points:\", n_points)\n",
    "   # print(\"Dimension:\", dimension)\n",
    "   # print(\"Balance:\", p, q)\n",
    "\n",
    "    #print(\"Constructing tree...\")\n",
    "  \n",
    "    root = build_quadtree(dataset)\n",
    "\n",
    "    #print(\"Doing fair clustering...\")\n",
    "  #  print('Beofe = '+str(dataset.shape))\n",
    "   # print(dataset)\n",
    "    cost = tree_fairlet_decomposition(p, q, root, dataset, colors)\n",
    "    #print(\"Fairlet Decomposition Runtime: \", str(fairlet_time));\n",
    "    #print(\"Doing k-median clustering on fairlet centers...\")\n",
    "    fairlet_center_idx = [dataset[index] for index in FAIRLET_CENTERS]\n",
    "    fairlet_center_pt = np.array([np.array(xi) for xi in fairlet_center_idx])\n",
    "\n",
    "    # convert points into matlab array format\n",
    "    mat_matrix = matlab.double(fairlet_center_pt.tolist())\n",
    "    \n",
    "    fairlet_e = time.time()\n",
    "\n",
    "    #print(\"Fairlet decomposition cost:\", cost)\n",
    "    fairlet_time = fairlet_e-fairlet_s;\n",
    "   \n",
    "    # Run k-mediod code in Matlab\n",
    "    cluster_s = time.time()\n",
    "    eng = matlab.engine.start_matlab()\n",
    "    # C: Cluster medoid locations, returned as\n",
    "    # a numeric matrix.\n",
    "    # C is a k-by-d matrix, where row j is the medoid of cluster j\n",
    "    #\n",
    "    # midx: Index to mat_matrix, returned as a column vector of indices.\n",
    "    # midx is a k-by-1 vector and the indices satisfy C = X(midx,:)\n",
    "    idx,C,sumd,D,midx,info = eng.kmedoids(mat_matrix,k,'Distance','sqeuclidean', nargout=6)\n",
    "    np_idx = (np.array(idx._data)).flatten()\n",
    "    \n",
    "    #print(\"Total Runtime: \", str(total_runtime));\n",
    "\n",
    "    # compute the indices of centers returned by Matlab in its input matrix\n",
    "    # which is mat_matrix or fairlet_center_pt\n",
    "    np_midx = (np.array(midx._data)).flatten()\n",
    "    c_idx_matrix = np_midx.astype(int)\n",
    "    #in matlab, arrays are numbered from 1\n",
    "    c_idx_matrix[:] = [index - 1 for index in c_idx_matrix]\n",
    "\n",
    "    # indices of center points in dataset\n",
    "    centroids = [FAIRLET_CENTERS[index] for index in c_idx_matrix]\n",
    "\n",
    "    #print(\"Computing fair k-median cost...\")\n",
    "    kmedian_cost = fair_kmedian_cost(centroids, dataset)\n",
    "    #print(\"Fairlet decomposition cost:\", cost)\n",
    "    #print(\"k-Median cost:\", kmedian_cost)\n",
    "    cluster_e = time.time()\n",
    "    total_runtime = (fairlet_e-fairlet_s) + (cluster_e-cluster_s)\n",
    "    \n",
    "    return kmedian_cost,cost, fairlet_time, total_runtime\n",
    "\n",
    "    "
   ]
  },
  {
   "cell_type": "markdown",
   "metadata": {},
   "source": [
    "Collecting Analytics for different sample size "
   ]
  },
  {
   "cell_type": "code",
   "execution_count": 16,
   "metadata": {
    "scrolled": true
   },
   "outputs": [
    {
     "ename": "NameError",
     "evalue": "name 'load_census' is not defined",
     "output_type": "error",
     "traceback": [
      "\u001b[1;31m---------------------------------------------------------------------------\u001b[0m",
      "\u001b[1;31mNameError\u001b[0m                                 Traceback (most recent call last)",
      "Cell \u001b[1;32mIn[16], line 5\u001b[0m\n\u001b[0;32m      2\u001b[0m q \u001b[38;5;241m=\u001b[39m \u001b[38;5;241m20\u001b[39m\n\u001b[0;32m      3\u001b[0m \u001b[38;5;66;03m#k =10\u001b[39;00m\n\u001b[1;32m----> 5\u001b[0m dataset, colors_ \u001b[38;5;241m=\u001b[39m load_dataset(\u001b[38;5;124m'\u001b[39m\u001b[38;5;124mcensus\u001b[39m\u001b[38;5;124m'\u001b[39m)\n\u001b[0;32m      6\u001b[0m step_size \u001b[38;5;241m=\u001b[39m \u001b[38;5;28mlen\u001b[39m(dataset)\n\u001b[0;32m      7\u001b[0m \u001b[38;5;28mprint\u001b[39m(\u001b[38;5;124m\"\u001b[39m\u001b[38;5;124mLength : \u001b[39m\u001b[38;5;124m\"\u001b[39m\u001b[38;5;241m+\u001b[39m\u001b[38;5;28mstr\u001b[39m(step_size))\n",
      "Cell \u001b[1;32mIn[14], line 5\u001b[0m, in \u001b[0;36mload_dataset\u001b[1;34m(dataset_name)\u001b[0m\n\u001b[0;32m      3\u001b[0m     dataset,colors_ \u001b[38;5;241m=\u001b[39m load_diabetes()\n\u001b[0;32m      4\u001b[0m \u001b[38;5;28;01melif\u001b[39;00m dataset_name\u001b[38;5;241m==\u001b[39m\u001b[38;5;124m'\u001b[39m\u001b[38;5;124mcensus\u001b[39m\u001b[38;5;124m'\u001b[39m:\n\u001b[1;32m----> 5\u001b[0m     dataset,colors_ \u001b[38;5;241m=\u001b[39m load_census()\n\u001b[0;32m      6\u001b[0m \u001b[38;5;28;01melif\u001b[39;00m dataset_name\u001b[38;5;241m==\u001b[39m\u001b[38;5;124m'\u001b[39m\u001b[38;5;124mcensusII\u001b[39m\u001b[38;5;124m'\u001b[39m:\n\u001b[0;32m      7\u001b[0m     dataset,colors_ \u001b[38;5;241m=\u001b[39m load_censusII()\n",
      "\u001b[1;31mNameError\u001b[0m: name 'load_census' is not defined"
     ]
    }
   ],
   "source": [
    "\n",
    "p = 9\n",
    "q = 20\n",
    "#k =10\n",
    "\n",
    "dataset, colors_ = load_dataset('census')\n",
    "step_size = len(dataset)\n",
    "print(\"Length : \"+str(step_size))\n",
    "total_size = len(dataset)\n",
    "for k in [2,5,10,15,20,30,40]:\n",
    "    kmed=[]\n",
    "    fcost=[]\n",
    "    fTime=[]\n",
    "    tTime=[]\n",
    "    iter_no =[]\n",
    "    print('*'*50)\n",
    "    print(\"K == \"+str(k))\n",
    "    print(\"*\"*50)\n",
    "    for sample_size in range(step_size,step_size+1, step_size):\n",
    "        #Subsample each sample size 10 times to find average for that value\n",
    "        seeds = [0,100,200,300,400,500,600,700,800,900,1000,1100]\n",
    "\n",
    "        for i in range(0,10):\n",
    "            #print(\"-\"*50)\n",
    "            print('Run No : '+str(i))\n",
    "            np.random.seed(seeds[i])\n",
    "            random.seed(i)\n",
    "           # print(\"***************---iteration: \" +str(i)+\"  -----******************\")\n",
    "            FAIRLETS.clear()\n",
    "            FAIRLET_CENTERS.clear()\n",
    "            kmedian_cost,cost, fairlet_time, total_runtime = compute(p,q,k,dataset,colors_,sample_size,False)\n",
    "            kmed.append(kmedian_cost)\n",
    "            fcost.append(cost)\n",
    "            fTime.append(fairlet_time)\n",
    "            tTime.append(total_runtime)\n",
    "            iter_no.append(i)\n",
    "            print('Fairlet Decomposition Cost '+str((cost)))\n",
    "            print('K-median Cost '+str((kmedian_cost)))\n",
    "            print('Fairlet Decomposition RunTime '+str((fairlet_time)))\n",
    "            print('Total RunTime '+str((total_runtime)))\n",
    "            print(\"*************************************************************\\n\")\n",
    "\n",
    "        kmed=np.array(kmed)\n",
    "        fcost = np.array(fcost)\n",
    "        fTime=np.array(fTime)\n",
    "        tTime=np.array(tTime)\n",
    "        iter_no = np.array(iter_no)\n",
    "        print(\"Overall Results for 10 Runs: \\n\")\n",
    "        print('Mean Fairlet Decomposition Cost '+str(np.mean(fcost)))\n",
    "        print('Mean K-median Cost '+str(np.mean(kmed)))\n",
    "        print('Mean Fairlet Decomposition RunTime '+str(np.mean(fTime)))\n",
    "        print('Mean Total RunTime '+str(np.mean(tTime)))\n",
    "        print(\"*************************************************************\\n\")\n",
    "\n",
    "        print('Std Dev. Fairlet Decomposition Cost '+str(np.std(fcost)))\n",
    "        print('Std Dev. K-median Cost '+str(np.std(kmed)))\n",
    "        print('Std Dev. Fairlet Decomposition RunTime '+str(np.std(fTime)))\n",
    "        print('Std Dev. Total RunTime '+str(np.std(tTime)))\n",
    "        print(\"*************************************************************\\n\")\n",
    "\n"
   ]
  },
  {
   "cell_type": "code",
   "execution_count": 19,
   "metadata": {},
   "outputs": [
    {
     "data": {
      "image/png": "[encoded data removed]",
      "text/plain": [
       "<Figure size 432x288 with 1 Axes>"
      ]
     },
     "metadata": {
      "needs_background": "light"
     },
     "output_type": "display_data"
    }
   ],
   "source": [
    "\n",
    "plt.plot(iter_no, kmed) \n",
    "plt.xlabel(\"Number of sub-sampled points\") \n",
    "plt.ylabel(\"Cost\") \n",
    "title = \"(\" + str(p)+ \",\" + str(q) +\")\" + \"- K median cost\";\n",
    "plt.title(title)\n",
    "plt.show() "
   ]
  },
  {
   "cell_type": "code",
   "execution_count": 23,
   "metadata": {},
   "outputs": [
    {
     "data": {
      "image/png": "[encoded data removed]",
      "text/plain": [
       "<Figure size 432x288 with 1 Axes>"
      ]
     },
     "metadata": {
      "needs_background": "light"
     },
     "output_type": "display_data"
    }
   ],
   "source": [
    "\n",
    "plt.plot(iter_no, fcost) \n",
    "plt.xlabel(\"Number of sub-sampled points\") \n",
    "plt.ylabel(\"Cost\") \n",
    "title = \"(\" + str(p)+ \",\" + str(q) +\")\" + \"-fairlet decomposition cost\";\n",
    "plt.title(title)\n",
    "plt.show() "
   ]
  },
  {
   "cell_type": "code",
   "execution_count": 24,
   "metadata": {},
   "outputs": [
    {
     "data": {
      "image/png": "[encoded data removed]",
      "text/plain": [
       "<Figure size 432x288 with 1 Axes>"
      ]
     },
     "metadata": {
      "needs_background": "light"
     },
     "output_type": "display_data"
    }
   ],
   "source": [
    "\n",
    "plt.plot(iter_no, fTime) \n",
    "plt.xlabel(\"Number of sub-sampled points\") \n",
    "plt.ylabel(\"Runtime (in seconds)\") \n",
    "title = \"(\" + str(p)+ \",\" + str(q) +\")\" + \"-fairlet decomposition runtime\";\n",
    "plt.title(title)\n",
    "plt.show() "
   ]
  },
  {
   "cell_type": "code",
   "execution_count": 25,
   "metadata": {},
   "outputs": [
    {
     "data": {
      "image/png": "[encoded data removed]",
      "text/plain": [
       "<Figure size 432x288 with 1 Axes>"
      ]
     },
     "metadata": {
      "needs_background": "light"
     },
     "output_type": "display_data"
    }
   ],
   "source": [
    "\n",
    "plt.plot(iter_no, tTime) \n",
    "plt.xlabel(\"Number of sub-sampled points\") \n",
    "plt.ylabel(\"Total Runtime (in seconds)\") \n",
    "title = \"(\" + str(p)+ \",\" + str(q) +\")\" + \"-Total runtime\";\n",
    "plt.title(title)\n",
    "plt.show() "
   ]
  },
  {
   "cell_type": "code",
   "execution_count": 26,
   "metadata": {},
   "outputs": [
    {
     "name": "stdout",
     "output_type": "stream",
     "text": [
      "Minimum K-Median cost  19663.336126007067\n",
      "Minimum Fairlet cost  8476.989277494362\n",
      "Minimum Fairlet RUntime  5.906198024749756\n",
      "Minimum TOtal RUntime  11.809336423873901\n"
     ]
    }
   ],
   "source": [
    "print(\"Minimum K-Median cost  \"+str(min(kmed)))\n",
    "print(\"Minimum Fairlet cost  \"+str(min(fcost)))\n",
    "print(\"Minimum Fairlet RUntime  \"+str(min(fTime)))\n",
    "print(\"Minimum TOtal RUntime  \"+str(min(tTime)))"
   ]
  },
  {
   "cell_type": "code",
   "execution_count": 27,
   "metadata": {},
   "outputs": [
    {
     "name": "stdout",
     "output_type": "stream",
     "text": [
      "Minimum K-Median cost  20448.17820981198\n",
      "Minimum Fairlet cost  9277.376451638167\n",
      "Minimum Fairlet RUntime  7.595322018084318\n",
      "Minimum TOtal RUntime  799.08104396903\n"
     ]
    }
   ],
   "source": [
    "print(\"Minimum K-Median cost  \"+str(np.mean(np.array(kmed))))\n",
    "print(\"Minimum Fairlet cost  \"+str(np.mean(np.array(fcost))))\n",
    "print(\"Minimum Fairlet RUntime  \"+str(np.mean(np.array(fTime))))\n",
    "print(\"Minimum TOtal RUntime  \"+str(np.mean(np.array(tTime))))"
   ]
  },
  {
   "cell_type": "code",
   "execution_count": 28,
   "metadata": {},
   "outputs": [
    {
     "name": "stdout",
     "output_type": "stream",
     "text": [
      "Kmedian cost\n",
      "\n",
      "[20021.705914619637, 20038.9930324592, 21319.83807958483, 19790.7577322191, 20326.07537285116, 20482.020116236952, 20233.32058587031, 21092.482472200405, 20013.27569351658, 20471.885506553168, 20855.349885857224, 21085.16947384355, 20986.804779671394, 21370.35659406034, 19876.450432538408, 21043.04443150566, 20649.406372654044, 20427.1408981018, 19827.42657722245, 20283.340810353144, 19762.896419947054, 20687.021517802084, 19663.336126007067]\n",
      "Fairlet Decomp cost\n",
      "\n",
      "[8882.153476941883, 9023.522064463968, 10182.157570964479, 8476.989277494362, 9344.453974056367, 9008.980511098423, 8981.812294173396, 10026.36973167325, 9417.137942948213, 9652.688484687276, 9192.731708614614, 9796.61827310238, 10322.853480881358, 9872.827605322223, 8651.419056054005, 9323.915244412772, 9294.041832563269, 9049.754345331812, 9276.999250309189, 8926.09559420106, 8704.70041984713, 9486.818379026721, 8484.617869509722]\n",
      "Fairlet Runtime\n",
      "\n",
      "[7.650447607040405, 10.652602195739746, 7.9253058433532715, 6.763408660888672, 7.27893853187561, 7.09590220451355, 7.860121250152588, 6.653714656829834, 8.627192497253418, 7.7931976318359375, 9.022092342376709, 9.202141284942627, 7.695492744445801, 8.270813941955566, 8.51828908920288, 8.448393821716309, 7.678178071975708, 7.4142982959747314, 5.9896559715271, 5.906198024749756, 6.008288860321045, 6.065546751022339, 6.1721861362457275]\n",
      "TOtal runtime\n",
      "\n",
      "[17.820220232009888, 20.770448923110962, 17.878544092178345, 18.573033809661865, 16.756651163101196, 16.54337191581726, 17.173450231552124, 15.344332456588745, 18.2739896774292, 16.658451557159424, 21.808006763458252, 19.320112943649292, 16.465671062469482, 17.01373839378357, 17.882042169570923, 18015.104365110397, 16.214781522750854, 15.821998596191406, 13.45270323753357, 13.0247802734375, 11.809336423873901, 12.35830545425415, 12.795675277709961]\n"
     ]
    }
   ],
   "source": [
    "\n",
    "print(\"Kmedian cost\\n\")\n",
    "print(kmed)\n",
    "\n",
    "print(\"Fairlet Decomp cost\\n\")\n",
    "print(fcost)\n",
    "\n",
    "print(\"Fairlet Runtime\\n\")\n",
    "print(fTime)\n",
    "\n",
    "print(\"TOtal runtime\\n\")\n",
    "print(tTime)"
   ]
  },
  {
   "cell_type": "code",
   "execution_count": 29,
   "metadata": {},
   "outputs": [
    {
     "name": "stdout",
     "output_type": "stream",
     "text": [
      "Minimum K-Median cost  20448.17820981198\n",
      "Minimum Fairlet cost  9277.376451638167\n",
      "Minimum Fairlet RUntime  7.595322018084318\n",
      "Minimum TOtal RUntime  799.08104396903\n"
     ]
    }
   ],
   "source": [
    "print(\"Minimum K-Median cost  \"+str(np.mean(np.array(kmed))))\n",
    "print(\"Minimum Fairlet cost  \"+str(np.mean(np.array(fcost))))\n",
    "print(\"Minimum Fairlet RUntime  \"+str(np.mean(np.array(fTime))))\n",
    "print(\"Minimum TOtal RUntime  \"+str(np.mean(np.array(tTime))))"
   ]
  }
 ],
 "metadata": {
  "kernelspec": {
   "display_name": "Python 3 (ipykernel)",
   "language": "python",
   "name": "python3"
  },
  "language_info": {
   "codemirror_mode": {
    "name": "ipython",
    "version": 3
   },
   "file_extension": ".py",
   "mimetype": "text/x-python",
   "name": "python",
   "nbconvert_exporter": "python",
   "pygments_lexer": "ipython3",
   "version": "3.11.5"
  }
 },
 "nbformat": 4,
 "nbformat_minor": 4
}
